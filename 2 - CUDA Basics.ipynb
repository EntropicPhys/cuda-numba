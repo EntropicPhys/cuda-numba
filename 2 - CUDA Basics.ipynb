{
  "nbformat": 4,
  "nbformat_minor": 0,
  "metadata": {
    "kernelspec": {
      "display_name": "Python 3",
      "language": "python",
      "name": "python3"
    },
    "language_info": {
      "codemirror_mode": {
        "name": "ipython",
        "version": 3
      },
      "file_extension": ".py",
      "mimetype": "text/x-python",
      "name": "python",
      "nbconvert_exporter": "python",
      "pygments_lexer": "ipython3",
      "version": "3.6.1"
    },
    "colab": {
      "name": "2 - CUDA Basics.ipynb",
      "provenance": [],
      "include_colab_link": true
    },
    "accelerator": "GPU"
  },
  "cells": [
    {
      "cell_type": "markdown",
      "metadata": {
        "id": "view-in-github",
        "colab_type": "text"
      },
      "source": [
        "<a href=\"https://colab.research.google.com/github/miguelamda/gtc2017-numba/blob/master/2%20-%20CUDA%20Basics.ipynb\" target=\"_parent\"><img src=\"https://colab.research.google.com/assets/colab-badge.svg\" alt=\"Open In Colab\"/></a>"
      ]
    },
    {
      "cell_type": "markdown",
      "metadata": {
        "id": "4LRSsiWPRS6k",
        "colab_type": "text"
      },
      "source": [
        "# I. Conceptos Básicos De CUDA\n",
        "\n",
        "![image](https://www.nvidia.com/content/dam/en-zz/Solutions/gtcDC/training/nvidia-dli-workshop-cuda-3c33-l@1x.jpg)\n",
        "\n",
        "Existen dos aproximaciones básicas a la programación de GPUs con Numba:\n",
        "\n",
        " 1. ufuncs/gufuncs (lo veremos en esta sección)\n",
        " 2. CUDA Python kernels (lo veremos en una posterior sección)\n",
        " \n",
        "Recuerda que el hardware subyacente a CUDA está diseñado para el *paralelismo de datos*.  El máximo rendimiento se logra cuando se computan las mismas operaciones en muchos elementos diferentes a la vez.  Las funciones universales son paralelas de datos de manera natural. Empezaremos con estas funciones.\n",
        "\n",
        "Antes de nada, usemos el siguiente comando para ver qué GPU tenemos asignada. Si estamos en Google Colab, debemos solicitar una, yendo a *Entorno de ejecución -> Cambiar tipo de entorno de ejecución*."
      ]
    },
    {
      "cell_type": "code",
      "metadata": {
        "id": "CrEP2RC0n9zf",
        "colab_type": "code",
        "colab": {
          "base_uri": "https://localhost:8080/",
          "height": 312
        },
        "outputId": "4e9ddaf9-06f0-4ada-8851-bcc6aeebf533"
      },
      "source": [
        "!nvidia-smi"
      ],
      "execution_count": 3,
      "outputs": [
        {
          "output_type": "stream",
          "text": [
            "Fri Apr 24 09:58:43 2020       \n",
            "+-----------------------------------------------------------------------------+\n",
            "| NVIDIA-SMI 440.64.00    Driver Version: 418.67       CUDA Version: 10.1     |\n",
            "|-------------------------------+----------------------+----------------------+\n",
            "| GPU  Name        Persistence-M| Bus-Id        Disp.A | Volatile Uncorr. ECC |\n",
            "| Fan  Temp  Perf  Pwr:Usage/Cap|         Memory-Usage | GPU-Util  Compute M. |\n",
            "|===============================+======================+======================|\n",
            "|   0  Tesla P100-PCIE...  Off  | 00000000:00:04.0 Off |                    0 |\n",
            "| N/A   39C    P0    27W / 250W |      0MiB / 16280MiB |      0%      Default |\n",
            "+-------------------------------+----------------------+----------------------+\n",
            "                                                                               \n",
            "+-----------------------------------------------------------------------------+\n",
            "| Processes:                                                       GPU Memory |\n",
            "|  GPU       PID   Type   Process name                             Usage      |\n",
            "|=============================================================================|\n",
            "|  No running processes found                                                 |\n",
            "+-----------------------------------------------------------------------------+\n"
          ],
          "name": "stdout"
        }
      ]
    },
    {
      "cell_type": "markdown",
      "metadata": {
        "id": "HgOu74bIRS6l",
        "colab_type": "text"
      },
      "source": [
        "## 1.1. Funciones Universales\n",
        "\n",
        "NumPy tiene el concepto de funciones universales (*universal functions*, o \"ufuncs\"), las cuales son funciones que pueden tomar arrays de NumPy de varias dimensiones (o escalares) y operar en ellas, elemento por elemento.\n",
        "\n",
        "Mejor veamos qué sucede con un ejemplo. Usemos la ufunc `add` de NumPy para demostrar qué pasa:"
      ]
    },
    {
      "cell_type": "code",
      "metadata": {
        "id": "Go84QkJQRS6m",
        "colab_type": "code",
        "colab": {
          "base_uri": "https://localhost:8080/",
          "height": 35
        },
        "outputId": "7e9d6833-a7f0-457d-8cd1-d8ec5a899445"
      },
      "source": [
        "import numpy as np\n",
        "\n",
        "a = np.array([1, 2, 3, 4])\n",
        "b = np.array([10, 20, 30, 40])\n",
        "\n",
        "np.add(a, b)"
      ],
      "execution_count": 1,
      "outputs": [
        {
          "output_type": "execute_result",
          "data": {
            "text/plain": [
              "array([11, 22, 33, 44])"
            ]
          },
          "metadata": {
            "tags": []
          },
          "execution_count": 1
        }
      ]
    },
    {
      "cell_type": "markdown",
      "metadata": {
        "id": "-aDDkUqHRS6q",
        "colab_type": "text"
      },
      "source": [
        "Las ufuncs también pueden combinar escalares con arrays:"
      ]
    },
    {
      "cell_type": "code",
      "metadata": {
        "id": "zt8wz3nfRS6q",
        "colab_type": "code",
        "colab": {
          "base_uri": "https://localhost:8080/",
          "height": 35
        },
        "outputId": "04b1e15e-3ec3-4f6a-8b5f-6df46c8617c4"
      },
      "source": [
        "np.add(a, 100)"
      ],
      "execution_count": 4,
      "outputs": [
        {
          "output_type": "execute_result",
          "data": {
            "text/plain": [
              "array([101, 102, 103, 104])"
            ]
          },
          "metadata": {
            "tags": []
          },
          "execution_count": 4
        }
      ]
    },
    {
      "cell_type": "markdown",
      "metadata": {
        "id": "0hUx9qQRRS6t",
        "colab_type": "text"
      },
      "source": [
        "También se pueden combinar arrays de dimensiones diferentes, pero compatibles.  El array de dimensiones inferiores se replicará para que coincida con la dimensionalidad del array de dimensiones superiores (también conocido como *broadcasting*)."
      ]
    },
    {
      "cell_type": "code",
      "metadata": {
        "id": "2Wm7AoP3RS6u",
        "colab_type": "code",
        "colab": {
          "base_uri": "https://localhost:8080/",
          "height": 156
        },
        "outputId": "e5ac7df7-e37b-418d-c6ee-21909b5b14fc"
      },
      "source": [
        "c = np.arange(4*4).reshape((4,4))\n",
        "print('c:', c)\n",
        "\n",
        "np.add(b, c)"
      ],
      "execution_count": 5,
      "outputs": [
        {
          "output_type": "stream",
          "text": [
            "c: [[ 0  1  2  3]\n",
            " [ 4  5  6  7]\n",
            " [ 8  9 10 11]\n",
            " [12 13 14 15]]\n"
          ],
          "name": "stdout"
        },
        {
          "output_type": "execute_result",
          "data": {
            "text/plain": [
              "array([[10, 21, 32, 43],\n",
              "       [14, 25, 36, 47],\n",
              "       [18, 29, 40, 51],\n",
              "       [22, 33, 44, 55]])"
            ]
          },
          "metadata": {
            "tags": []
          },
          "execution_count": 5
        }
      ]
    },
    {
      "cell_type": "markdown",
      "metadata": {
        "id": "X-fKtFgeRS6w",
        "colab_type": "text"
      },
      "source": [
        "En la situación anterior, la matriz `b` se añade a cada fila de `c`.  Si queremos añadir `b` a cada columna, tenemos que transponerla.  Hay varias maneras de hacerlo, pero una de ellas es insertar un nuevo eje usando `np.newaxis`:"
      ]
    },
    {
      "cell_type": "code",
      "metadata": {
        "id": "-2Q34hPrRS6x",
        "colab_type": "code",
        "colab": {
          "base_uri": "https://localhost:8080/",
          "height": 87
        },
        "outputId": "0f652aec-86ef-46fc-83fc-199e90ce470b"
      },
      "source": [
        "b_col = b[:, np.newaxis]\n",
        "b_col"
      ],
      "execution_count": 6,
      "outputs": [
        {
          "output_type": "execute_result",
          "data": {
            "text/plain": [
              "array([[10],\n",
              "       [20],\n",
              "       [30],\n",
              "       [40]])"
            ]
          },
          "metadata": {
            "tags": []
          },
          "execution_count": 6
        }
      ]
    },
    {
      "cell_type": "code",
      "metadata": {
        "id": "BViI7gF_RS60",
        "colab_type": "code",
        "colab": {
          "base_uri": "https://localhost:8080/",
          "height": 87
        },
        "outputId": "eaff3e1b-a415-4941-ed3c-a2bb9470364b"
      },
      "source": [
        "np.add(b_col, c)"
      ],
      "execution_count": 7,
      "outputs": [
        {
          "output_type": "execute_result",
          "data": {
            "text/plain": [
              "array([[10, 11, 12, 13],\n",
              "       [24, 25, 26, 27],\n",
              "       [38, 39, 40, 41],\n",
              "       [52, 53, 54, 55]])"
            ]
          },
          "metadata": {
            "tags": []
          },
          "execution_count": 7
        }
      ]
    },
    {
      "cell_type": "markdown",
      "metadata": {
        "id": "UMxJrYBuRS62",
        "colab_type": "text"
      },
      "source": [
        "La documentación de NumPy contiene más información exhaustiva de las ufuncs:\n",
        "\n",
        "https://numpy.org/doc/stable/reference/ufuncs.html"
      ]
    },
    {
      "cell_type": "markdown",
      "metadata": {
        "id": "iB9A30_YRS63",
        "colab_type": "text"
      },
      "source": [
        "## 1.2 Construyendo Ufuncs Para La GPU\n",
        "\n",
        "Numba tiene la capacidad de crear ufuncs compilados. Si tú implementas una función escalar para todas las entradas, y Numba averiguará las reglas de broadcast por tí.  Generar un ufunc que utilice CUDA requiere dar una signatura de tipos explícita y establecer el atributo `target`:"
      ]
    },
    {
      "cell_type": "code",
      "metadata": {
        "id": "oCLG56ghRS63",
        "colab_type": "code",
        "colab": {}
      },
      "source": [
        "from numba import vectorize\n",
        "\n",
        "@vectorize(['int64(int64, int64)'], target='cuda')\n",
        "def add_ufunc(x, y):\n",
        "    return x + y"
      ],
      "execution_count": 0,
      "outputs": []
    },
    {
      "cell_type": "code",
      "metadata": {
        "id": "2ZXzqMfNRS66",
        "colab_type": "code",
        "colab": {
          "base_uri": "https://localhost:8080/",
          "height": 156
        },
        "outputId": "bf8f089d-cea1-4067-a270-ceb71bebad41"
      },
      "source": [
        "print('a+b:\\n', add_ufunc(a, b))\n",
        "print()\n",
        "print('b_col + c:\\n', add_ufunc(b_col, c))"
      ],
      "execution_count": 9,
      "outputs": [
        {
          "output_type": "stream",
          "text": [
            "a+b:\n",
            " [11 22 33 44]\n",
            "\n",
            "b_col + c:\n",
            " [[10 11 12 13]\n",
            " [24 25 26 27]\n",
            " [38 39 40 41]\n",
            " [52 53 54 55]]\n"
          ],
          "name": "stdout"
        }
      ]
    },
    {
      "cell_type": "markdown",
      "metadata": {
        "id": "cwjqLJvIRS69",
        "colab_type": "text"
      },
      "source": [
        "¡Acaban de pasar muchas cosas! Numba automáticamente:\n",
        "\n",
        " * Compiló un kernel CUDA para ejecutar la operación ufunc en paralelo sobre todos los elementos de entrada.\n",
        " * Asignó memoria de GPU para las entradas y la salida.\n",
        " * Copió los datos de entrada a la GPU.\n",
        " * Ejecutó el kernel CUDA con las dimensiones correctas del kernel dados los tamaños de entrada.\n",
        " * Copió el resultado de la GPU a la CPU.\n",
        " * Devolvió el resultado como un array NumPy en el host.\n",
        "\n",
        "Esto es muy conveniente para hacer pruebas, pero copiar los datos de ida y vuelta entre la CPU y la GPU puede ser lento y perjudicar el rendimiento.  En el próximo notebook aprenderás sobre la administración de devices y la asignación de memoria.\n",
        "\n",
        "Tal vez te preguntes cómo de rápido es nuestro sencillo ejemplo en la GPU.  Veamos:\n"
      ]
    },
    {
      "cell_type": "code",
      "metadata": {
        "id": "gSq1ZW1cRS6-",
        "colab_type": "code",
        "colab": {
          "base_uri": "https://localhost:8080/",
          "height": 52
        },
        "outputId": "977e6db8-e7b3-4f3e-dc16-9b427abe6879"
      },
      "source": [
        "%timeit np.add(b_col, c)   # NumPy en CPU"
      ],
      "execution_count": 10,
      "outputs": [
        {
          "output_type": "stream",
          "text": [
            "The slowest run took 34.73 times longer than the fastest. This could mean that an intermediate result is being cached.\n",
            "1000000 loops, best of 3: 1.17 µs per loop\n"
          ],
          "name": "stdout"
        }
      ]
    },
    {
      "cell_type": "code",
      "metadata": {
        "id": "eAY5Up3YRS7B",
        "colab_type": "code",
        "colab": {
          "base_uri": "https://localhost:8080/",
          "height": 35
        },
        "outputId": "325cb128-b863-40ab-89f8-49995891c60c"
      },
      "source": [
        "%timeit add_ufunc(b_col, c) # Numba en GPU"
      ],
      "execution_count": 11,
      "outputs": [
        {
          "output_type": "stream",
          "text": [
            "1000 loops, best of 3: 1.45 ms per loop\n"
          ],
          "name": "stdout"
        }
      ]
    },
    {
      "cell_type": "markdown",
      "metadata": {
        "id": "mgvyLg3QRS7E",
        "colab_type": "text"
      },
      "source": [
        "¿La GPU es *mucho más lenta* que la CPU?  Esto es de esperar porque hemos (deliberadamente) usado mal la GPU de varias maneras en este ejemplo:\n",
        "\n",
        "  * **Nuestras entradas son demasiado pequeñas**: la GPU alcanza la mejora de rendimiento a través del paralelismo, operando en miles de valores a la vez.  Nuestras entradas de prueba tienen sólo 4 y 16 números enteros, respectivamente.  Necesitamos un array mucho más grande para mantener la GPU ocupada.\n",
        "  * **Nuestro cálculo es demasiado simple**: Enviar un cálculo a la GPU implica un poco de gasto general comparado con llamar a una función en la CPU.  Si nuestro cálculo no involucra suficientes operaciones matemáticas (a menudo llamadas \"intensidad aritmética\"), entonces la GPU pasará la mayor parte de su tiempo esperando a que los datos se muevan.\n",
        "  * **Copiamos los datos hacia y desde la GPU**: Aunque incluir el tiempo de copia puede ser realista para una sola función, a menudo queremos ejecutar varias operaciones en la GPU de forma seguida.  En esos casos, tiene sentido enviar los datos a la GPU y mantenerlos allí hasta que todo nuestro procesamiento esté completo.\n",
        "  * **Nuestros tipos de datos son más grandes de lo necesario**: Nuestro ejemplo usa `int64` cuando probablemente no lo necesitamos.  Un código escalar corre básicamente a la misma velocidad en la CPU usando tipos de datos de 32-bit y 64-bit, pero los tipos de datos de 64-bit tienen un costo de rendimiento significativo en la GPU.  La aritmética básica en punto flotante de 64 bits puede ser desde un 2x (en una Tesla con arquitectura Pascal) hasta un 24x (en una GeForce de arquitectura Maxwell) más lenta que el punto flotante de 32 bits. NumPy utiliza por defecto tipos de datos de 64 bits al crear matrices, por lo que es importante establecer el atributo `dtype` o utilizar el método `ndarray.astype()` para elegir los tipos de 32 bits cuando los necesite.\n",
        "  \n",
        "Dicho lo anterior, probemos un ejemplo que sea más rápido en la GPU:\n"
      ]
    },
    {
      "cell_type": "code",
      "metadata": {
        "id": "d1zurZYmRS7E",
        "colab_type": "code",
        "colab": {}
      },
      "source": [
        "import math  # Observa que para el target CUDA, necesitamos usar las funciones escalares del módulo math, no de NumPy\n",
        "\n",
        "SQRT_2PI = np.float32((2*math.pi)**0.5)  # Precomputa esta constante como un float32.  Numba lo incrustará en tiempo de compilación.\n",
        "\n",
        "@vectorize(['float32(float32, float32, float32)'], target='cuda')\n",
        "def gaussian_pdf(x, mean, sigma):\n",
        "    '''Calcula el valor de una función de densidad de probabilidad Gaussiana, en una x con una media y sigma dada.'''\n",
        "    return math.exp(-0.5 * ((x - mean) / sigma)**2) / (sigma * SQRT_2PI)"
      ],
      "execution_count": 0,
      "outputs": []
    },
    {
      "cell_type": "code",
      "metadata": {
        "id": "pEm5SXrTRS7H",
        "colab_type": "code",
        "colab": {
          "base_uri": "https://localhost:8080/",
          "height": 35
        },
        "outputId": "08529395-0757-4022-cdc8-5bbb8f875832"
      },
      "source": [
        "# Evalúa la Gaussiana un millón de veces!\n",
        "x = np.random.uniform(-3, 3, size=1000000).astype(np.float32)\n",
        "mean = np.float32(0.0)\n",
        "sigma = np.float32(1.0)\n",
        "\n",
        "# Una prueba rápida\n",
        "gaussian_pdf(x[0], 0.0, 1.0)"
      ],
      "execution_count": 13,
      "outputs": [
        {
          "output_type": "execute_result",
          "data": {
            "text/plain": [
              "array([0.08078936], dtype=float32)"
            ]
          },
          "metadata": {
            "tags": []
          },
          "execution_count": 13
        }
      ]
    },
    {
      "cell_type": "code",
      "metadata": {
        "id": "oimg-Z7sRS7J",
        "colab_type": "code",
        "colab": {
          "base_uri": "https://localhost:8080/",
          "height": 35
        },
        "outputId": "9a4e2f5a-0fb5-4f48-b143-7ba427bbe518"
      },
      "source": [
        "import scipy.stats # para la definición de distribución Gaussiana\n",
        "norm_pdf = scipy.stats.norm\n",
        "%timeit norm_pdf.pdf(x, loc=mean, scale=sigma)"
      ],
      "execution_count": 14,
      "outputs": [
        {
          "output_type": "stream",
          "text": [
            "10 loops, best of 3: 60.7 ms per loop\n"
          ],
          "name": "stdout"
        }
      ]
    },
    {
      "cell_type": "code",
      "metadata": {
        "id": "Zte22hEhRS7L",
        "colab_type": "code",
        "colab": {
          "base_uri": "https://localhost:8080/",
          "height": 52
        },
        "outputId": "38bf1393-f48a-43fc-8afe-2ffb57a065bc"
      },
      "source": [
        "%timeit gaussian_pdf(x, mean, sigma)"
      ],
      "execution_count": 15,
      "outputs": [
        {
          "output_type": "stream",
          "text": [
            "The slowest run took 45.18 times longer than the fastest. This could mean that an intermediate result is being cached.\n",
            "100 loops, best of 3: 3.84 ms per loop\n"
          ],
          "name": "stdout"
        }
      ]
    },
    {
      "cell_type": "markdown",
      "metadata": {
        "id": "utmXN2RmRS7N",
        "colab_type": "text"
      },
      "source": [
        "Es una mejora bastante grande, incluso incluyendo la sobrecarga de copiar todos los datos hacia y desde la GPU.  Los ufuncs que usan funciones especiales (`exp`, `sin`, `cos`, etc) en grandes conjuntos de datos funcionan especialmente bien en la GPU."
      ]
    },
    {
      "cell_type": "markdown",
      "metadata": {
        "id": "LvM5_7KERS7O",
        "colab_type": "text"
      },
      "source": [
        "## 1.3 Funciones CUDA Device\n",
        "\n",
        "Los Ufuncs son geniales, pero no deberías tener que atiborrar toda tu lógica en el cuerpo de una sola función. También puedes crear funciones normales que sólo se llaman desde otras funciones que se ejecutan en la GPU (y por tanto, no se pueden llamar desde la CPU).\n",
        "\n",
        "Las funciones device se crean con el decorador `numba.cuda.jit`:"
      ]
    },
    {
      "cell_type": "code",
      "metadata": {
        "id": "_wpivmMWRS7O",
        "colab_type": "code",
        "colab": {}
      },
      "source": [
        "from numba import cuda\n",
        "\n",
        "@cuda.jit(device=True)\n",
        "def polar_to_cartesian(rho, theta):\n",
        "    x = rho * math.cos(theta)\n",
        "    y = rho * math.sin(theta)\n",
        "    return x, y  # Estamos en Python, así que devolvamos una tupla\n",
        "\n",
        "@vectorize(['float32(float32, float32, float32, float32)'], target='cuda')\n",
        "def polar_distance(rho1, theta1, rho2, theta2):\n",
        "    x1, y1 = polar_to_cartesian(rho1, theta1)\n",
        "    x2, y2 = polar_to_cartesian(rho2, theta2)\n",
        "    \n",
        "    return ((x1 - x2)**2 + (y1 - y2)**2)**0.5"
      ],
      "execution_count": 0,
      "outputs": []
    },
    {
      "cell_type": "code",
      "metadata": {
        "id": "hPN0PQZ7RS7R",
        "colab_type": "code",
        "colab": {}
      },
      "source": [
        "n = 1000000\n",
        "rho1 = np.random.uniform(0.5, 1.5, size=n).astype(np.float32)\n",
        "theta1 = np.random.uniform(-np.pi, np.pi, size=n).astype(np.float32)\n",
        "rho2 = np.random.uniform(0.5, 1.5, size=n).astype(np.float32)\n",
        "theta2 = np.random.uniform(-np.pi, np.pi, size=n).astype(np.float32)"
      ],
      "execution_count": 0,
      "outputs": []
    },
    {
      "cell_type": "code",
      "metadata": {
        "id": "al0ntBHcRS7U",
        "colab_type": "code",
        "colab": {
          "base_uri": "https://localhost:8080/",
          "height": 52
        },
        "outputId": "08739dd2-b452-4f58-d69a-28afa589cf8a"
      },
      "source": [
        "polar_distance(rho1, theta1, rho2, theta2)"
      ],
      "execution_count": 18,
      "outputs": [
        {
          "output_type": "execute_result",
          "data": {
            "text/plain": [
              "array([0.5583631, 1.3720713, 0.9604804, ..., 2.5346978, 2.0799835,\n",
              "       2.2978394], dtype=float32)"
            ]
          },
          "metadata": {
            "tags": []
          },
          "execution_count": 18
        }
      ]
    },
    {
      "cell_type": "markdown",
      "metadata": {
        "id": "yqLEA8y1RS7W",
        "colab_type": "text"
      },
      "source": [
        "Ten en cuenta que el compilador CUDA incrustra agresivamente las funciones device, por lo que generalmente no hay sobrecarga en las llamadas a estas funciones.  De forma similar, la \"tupla\" devuelta por `polar_to_cartesian` no se crea realmente como un objeto Python, sino que se representa temporalmente como una estructura, que luego es optimizada por el compilador."
      ]
    },
    {
      "cell_type": "markdown",
      "metadata": {
        "id": "efrkM7E8RS7X",
        "colab_type": "text"
      },
      "source": [
        "## 1.4 Python Permitido en la GPU\n",
        "\n",
        "Comparado con Numba en la CPU (el cual ya es limitado), Numba en la GPU tiene más limitaciones. El Python soportado incluye:\n",
        "\n",
        "* Condicionales `if`/`elif`/`else`\n",
        "* Bucles `while` y `for`\n",
        "* Operadores matemáticos básicos\n",
        "* Funciones seleccionadas de los módulos `math` y `cmath`\n",
        "* Tuplas\n",
        "\n",
        "Mira [el manual Numba](http://numba.pydata.org/numba-doc/latest/cuda/cudapysupported.html) para más detalles."
      ]
    },
    {
      "cell_type": "markdown",
      "metadata": {
        "id": "iVjTikniRS7X",
        "colab_type": "text"
      },
      "source": [
        "# II. Ejercicio Propuesto\n",
        "\n",
        "Construyamos una función de zero suppression\" (\"supresión cero\"). Una operación común cuando se trabaja con formas de onda es forzar a que todos los valores de las muestras por debajo de una cierta magnitud absoluta sean cero, siendo una forma de eliminar el ruido de baja amplitud.  Construyamos algunos datos de muestra:"
      ]
    },
    {
      "cell_type": "code",
      "metadata": {
        "id": "IVzfMRUcRS7Y",
        "colab_type": "code",
        "colab": {
          "base_uri": "https://localhost:8080/",
          "height": 283
        },
        "outputId": "d907d77f-c91f-4925-fbe6-dc156911ca81"
      },
      "source": [
        "# Haciendo una sucesión de pulsos con ruido\n",
        "%matplotlib inline\n",
        "from matplotlib import pyplot as plt\n",
        "\n",
        "n = 100000\n",
        "noise = np.random.normal(size=n) * 3\n",
        "pulses = np.maximum(np.sin(np.arange(n) / (n / 23)) - 0.3, 0.0)\n",
        "waveform = ((pulses * 300) + noise).astype(np.int16)\n",
        "plt.plot(waveform)"
      ],
      "execution_count": 19,
      "outputs": [
        {
          "output_type": "execute_result",
          "data": {
            "text/plain": [
              "[<matplotlib.lines.Line2D at 0x7f08bb4a76a0>]"
            ]
          },
          "metadata": {
            "tags": []
          },
          "execution_count": 19
        },
        {
          "output_type": "display_data",
          "data": {
            "image/png": "[encoded data removed]",
            "text/plain": [
              "<Figure size 432x288 with 1 Axes>"
            ]
          },
          "metadata": {
            "tags": [],
            "needs_background": "light"
          }
        }
      ]
    },
    {
      "cell_type": "markdown",
      "metadata": {
        "id": "5IynktPNRS7a",
        "colab_type": "text"
      },
      "source": [
        "Ahora intentemos completar el cuerpo de esta ufunc:"
      ]
    },
    {
      "cell_type": "code",
      "metadata": {
        "id": "XVNCwzfhRS7b",
        "colab_type": "code",
        "colab": {}
      },
      "source": [
        "@vectorize(['int16(int16, int16)'], target='cuda')\n",
        "def zero_suppress(waveform_value, threshold):\n",
        "    ### Reepmlaza esta implementación con la tuya\n",
        "    result = waveform_value\n",
        "    ###\n",
        "    return result"
      ],
      "execution_count": 0,
      "outputs": []
    },
    {
      "cell_type": "code",
      "metadata": {
        "id": "-H09sptTRS7d",
        "colab_type": "code",
        "colab": {},
        "outputId": "4d6b3120-a395-4bed-b980-575f7207b2a5"
      },
      "source": [
        "# El ruido de base deberái desaparecer cuando zero_suppress esté implementada\n",
        "plt.plot(zero_suppress(waveform, 15.0))"
      ],
      "execution_count": 0,
      "outputs": [
        {
          "output_type": "execute_result",
          "data": {
            "text/plain": [
              "[<matplotlib.lines.Line2D at 0x1200f3518>]"
            ]
          },
          "metadata": {
            "tags": []
          },
          "execution_count": 28
        },
        {
          "output_type": "display_data",
          "data": {
            "image/png": "[encoded data removed]",
            "text/plain": [
              "<matplotlib.figure.Figure at 0x11aec8320>"
            ]
          },
          "metadata": {
            "tags": []
          }
        }
      ]
    },
    {
      "cell_type": "code",
      "metadata": {
        "id": "j8AXSUUDRS7f",
        "colab_type": "code",
        "colab": {}
      },
      "source": [
        ""
      ],
      "execution_count": 0,
      "outputs": []
    }
  ]
}