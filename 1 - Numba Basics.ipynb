{
  "nbformat": 4,
  "nbformat_minor": 0,
  "metadata": {
    "kernelspec": {
      "display_name": "Python 3",
      "language": "python",
      "name": "python3"
    },
    "language_info": {
      "codemirror_mode": {
        "name": "ipython",
        "version": 3
      },
      "file_extension": ".py",
      "mimetype": "text/x-python",
      "name": "python",
      "nbconvert_exporter": "python",
      "pygments_lexer": "ipython3",
      "version": "3.6.1"
    },
    "colab": {
      "name": "1 - Numba Basics.ipynb",
      "provenance": [],
      "include_colab_link": true
    }
  },
  "cells": [
    {
      "cell_type": "markdown",
      "metadata": {
        "id": "view-in-github",
        "colab_type": "text"
      },
      "source": [
        "<a href=\"https://colab.research.google.com/github/miguelamda/gtc2017-numba/blob/master/1%20-%20Numba%20Basics.ipynb\" target=\"_parent\"><img src=\"https://colab.research.google.com/assets/colab-badge.svg\" alt=\"Open In Colab\"/></a>"
      ]
    },
    {
      "cell_type": "markdown",
      "metadata": {
        "id": "-XXwejSpl-tb",
        "colab_type": "text"
      },
      "source": [
        "# I. Nociones Básicas de Numba\n",
        "\n",
        "![logo](http://numba.pydata.org/_static/numba-blue-horizontal-rgb.svg)\n",
        "\n",
        "## 1.1 ¿Qué es Numba?\n",
        "\n",
        "[Numba](http://numba.pydata.org/) es un **function compiler**, **just-in-time**, y **type-specializing** para acelerar Python **enfocado numéricamente**. Esto es una lista larga, rompamos esto en los siguientes términos:\n",
        "\n",
        " * **function compiler**: Numba compila funciones de Python, no aplicaciones enteras ni partes de funciones.  Numba no reemplaza tu intérprete de Python, es tan solo otro módulo de Python que puede convertir tu función en otra (usualmente) más rápida. \n",
        " * **type-specializing**: Numba acelera tu función generando una implementación especializada para los tipos de datos específicos que está utilizando.  Las funciones de Python están diseñadas para funcionar con tipos de datos genéricos, lo que las hace muy flexibles, pero también muy lentas.  En la práctica, uno solo llama a una función con un pequeño número de tipos de argumentos, por lo que Numba generará una implementación rápida para cada conjunto de tipos.\n",
        " * **just-in-time**: Numba traduce las funciones cuando se llaman por primera vez.  Esto asegura que el compilador sepa qué tipos de argumentos va a usar.  Esto también permite que Numba sea usado interactivamente en un cuaderno Jupyter tan fácilmente como una aplicación tradicional.\n",
        " * **numerically-focused**: Actualmente, Numba se centra en los tipos de datos numéricos, como `int`, `float`, y `complex`.  El soporte para el procesamiento de cadenas es muy limitado, y en muchos casos el uso de cadenas no funciona bien en la GPU.  Para obtener los mejores resultados con Numba, es probable que utilices los arrays de NumPy.\n",
        "\n",
        "## 1.2 Requisitos\n",
        "\n",
        "Numba en soportado en un gran número de sistemas operativos:\n",
        "\n",
        " * Windows 7 en adelante, 32 y 64-bit\n",
        " * macOS 10.9 en adelante, 64-bit\n",
        " * Linux (la mayoría >= RHEL 5), 32-bit y 64-bit\n",
        "\n",
        "también en varias versiones de Python:\n",
        "\n",
        " * Python 2.7 y 3.6 en adelante\n",
        " * NumPy 1.15 en adelante\n",
        "\n",
        "y en un gran variedad de hardware:\n",
        "\n",
        "* CPUs x86, x86_64/AMD64\n",
        "* CPUs ARM (ARMv7 en Raspberry Pi, ARMv8 en NVIDIA Jetson)\n",
        "* GPUs de NVIDIA con CUDA (mínimo compute capability 3.0 y CUDA 7.5)\n",
        "* GPUs de AMD con ROCm (solo linux y no en AMD Carrizo ni Kaveri APU)\n",
        "\n",
        "En este tutorial, vamos a usar Linux 64-bit y CUDA 8.\n",
        "\n",
        "## 1.3 Instalación\n",
        "\n",
        "Se puede instalar tanto con Anaconda como con pip. Accede a la [web oficial](http://numba.pydata.org/) para ver el comando de instalación.\n",
        "\n",
        "``` python\n",
        "# Comando con pip\n",
        "pip install numba\n",
        "# Comando con Anacoda\n",
        "conda install numba\n",
        "```"
      ]
    },
    {
      "cell_type": "markdown",
      "metadata": {
        "id": "-aJUuxbul-td",
        "colab_type": "text"
      },
      "source": [
        "## 1.4 Primeros Pasos\n",
        "\n",
        "Escribamos nuestra primera función Numba y compilémosla para la **CPU**. El compilador de Numba se abilita típicamente aplicando un *decorador* a la función Python. Los decoradores son funciones que transforman funciones de Python. Aquí usamos el decorador para compilación CPU:"
      ]
    },
    {
      "cell_type": "code",
      "metadata": {
        "id": "lVskZ592l-td",
        "colab_type": "code",
        "colab": {}
      },
      "source": [
        "from numba import jit\n",
        "import math\n",
        "\n",
        "@jit\n",
        "def hypot(x, y):\n",
        "    # Implementación de https://en.wikipedia.org/wiki/Hypot\n",
        "    x = abs(x);\n",
        "    y = abs(y);\n",
        "    t = min(x, y);\n",
        "    x = max(x, y);\n",
        "    t = t / x;\n",
        "    return x * math.sqrt(1+t*t)"
      ],
      "execution_count": 0,
      "outputs": []
    },
    {
      "cell_type": "markdown",
      "metadata": {
        "id": "zlln1Ipfl-th",
        "colab_type": "text"
      },
      "source": [
        "El código anterior es equivalente a escribir:\n",
        "\n",
        "``` python\n",
        "def hypot(x, y):\n",
        "    x = abs(x);\n",
        "    y = abs(y);\n",
        "    t = min(x, y);\n",
        "    x = max(x, y);\n",
        "    t = t / x;\n",
        "    return x * math.sqrt(1+t*t)\n",
        "    \n",
        "hypot = jit(hypot)\n",
        "```\n",
        "\n",
        "Esto significa que el compilador de Numba es tan solo una función que puedes llamar siempre que quieras. Probemos nuestro cálculo de la hipotenusa:"
      ]
    },
    {
      "cell_type": "code",
      "metadata": {
        "id": "jDG8LDNHl-ti",
        "colab_type": "code",
        "outputId": "a55f4e43-b7d9-4804-fd92-3bbfe78f1ce0",
        "colab": {
          "base_uri": "https://localhost:8080/",
          "height": 35
        }
      },
      "source": [
        "hypot(3.0, 4.0)"
      ],
      "execution_count": 2,
      "outputs": [
        {
          "output_type": "execute_result",
          "data": {
            "text/plain": [
              "5.0"
            ]
          },
          "metadata": {
            "tags": []
          },
          "execution_count": 2
        }
      ]
    },
    {
      "cell_type": "markdown",
      "metadata": {
        "id": "lfi_fHcal-tl",
        "colab_type": "text"
      },
      "source": [
        "La primera vez que llamamos a `hypot`, el compilador se lanza y compila una implementación de código máquina para las entradas de tipo float. Numba también salva la función Python original en el atributo `.py_func`, así que podemos llamar la código Python original para asegurarnos que obtenemos la misma respuesta:"
      ]
    },
    {
      "cell_type": "code",
      "metadata": {
        "id": "WimRuOUbl-tm",
        "colab_type": "code",
        "outputId": "be2a6ca0-6ff7-42d9-9287-4eaf2d6317a5",
        "colab": {
          "base_uri": "https://localhost:8080/",
          "height": 35
        }
      },
      "source": [
        "hypot.py_func(3.0, 4.0)"
      ],
      "execution_count": 3,
      "outputs": [
        {
          "output_type": "execute_result",
          "data": {
            "text/plain": [
              "5.0"
            ]
          },
          "metadata": {
            "tags": []
          },
          "execution_count": 3
        }
      ]
    },
    {
      "cell_type": "markdown",
      "metadata": {
        "id": "X7PJ_zkLl-to",
        "colab_type": "text"
      },
      "source": [
        "## 1.5 Benchmarking\n",
        "\n",
        "Una parte importante de usar Numba es la medición de rendimiento de nuestro nuevo código. Veamos si de verdad obtenemos algo de aceleración. La forma más sencilla de hacer esto en Jupyter notebook es usar la función magic `%timeit`. Primero midamos la velocidad del código Python original:"
      ]
    },
    {
      "cell_type": "code",
      "metadata": {
        "id": "RUmlOWCxl-tp",
        "colab_type": "code",
        "outputId": "db8fd74c-82fd-47bc-dc38-86f63fb715e0",
        "colab": {
          "base_uri": "https://localhost:8080/",
          "height": 52
        }
      },
      "source": [
        "%timeit hypot.py_func(3.0, 4.0)"
      ],
      "execution_count": 4,
      "outputs": [
        {
          "output_type": "stream",
          "text": [
            "The slowest run took 15.83 times longer than the fastest. This could mean that an intermediate result is being cached.\n",
            "1000000 loops, best of 3: 633 ns per loop\n"
          ],
          "name": "stdout"
        }
      ]
    },
    {
      "cell_type": "markdown",
      "metadata": {
        "id": "CcnuqXrol-tr",
        "colab_type": "text"
      },
      "source": [
        "El magic `%timeit` ejecuta la sentencia varias veces para obtener una estimación precisa del tiempo de ejecución. También retorna el mejor tiempo de ejecución por defecto, lo cual es útil para reducir la probabilidad de que eventos aleatorios en segundo plano afecten la medición. La mejor de las 3 aproximaciones también asegura que el tiempo de compilación de la primera llamada no rompa los resultados:"
      ]
    },
    {
      "cell_type": "code",
      "metadata": {
        "id": "IBCWTRvIl-ts",
        "colab_type": "code",
        "outputId": "f300e7dd-1eb7-437c-aef8-941e43934e00",
        "colab": {
          "base_uri": "https://localhost:8080/",
          "height": 52
        }
      },
      "source": [
        "%timeit hypot(3.0, 4.0)"
      ],
      "execution_count": 7,
      "outputs": [
        {
          "output_type": "stream",
          "text": [
            "The slowest run took 24.48 times longer than the fastest. This could mean that an intermediate result is being cached.\n",
            "1000000 loops, best of 3: 201 ns per loop\n"
          ],
          "name": "stdout"
        }
      ]
    },
    {
      "cell_type": "markdown",
      "metadata": {
        "id": "2N1_zkftl-tu",
        "colab_type": "text"
      },
      "source": [
        "Numba ha hecho un buen trabajo con esta función. Ahora es 4x (4 veces) más rápido que la versión pura de Python. \n",
        "\n",
        "Por supuesto, la función `hypot` también está presente en el módulo Python:"
      ]
    },
    {
      "cell_type": "code",
      "metadata": {
        "id": "ZFXJ7iEXl-tv",
        "colab_type": "code",
        "outputId": "20c168c2-f394-4c35-aba4-bdab36fbc794",
        "colab": {
          "base_uri": "https://localhost:8080/",
          "height": 52
        }
      },
      "source": [
        "%timeit math.hypot(3.0, 4.0)"
      ],
      "execution_count": 6,
      "outputs": [
        {
          "output_type": "stream",
          "text": [
            "The slowest run took 129.83 times longer than the fastest. This could mean that an intermediate result is being cached.\n",
            "10000000 loops, best of 3: 110 ns per loop\n"
          ],
          "name": "stdout"
        }
      ]
    },
    {
      "cell_type": "markdown",
      "metadata": {
        "id": "Pxqg-gBLl-ty",
        "colab_type": "text"
      },
      "source": [
        "¡El built-in de Python es incluso más rápido que el de Numba!  Esto se debe a que Numba introduce una sobrecarga en cada llamada a función que es más grande que la sobrecarga del propio Python.  Las funciones extremadamente rápidas (como la anterior) se verán perjudicadas por esto.\n",
        "\n",
        "Sin embargo, si llamas a una función Numba desde otra, hay muy poca sobrecarga de función, a veces incluso cero si el compilador incrustra la función en la otra."
      ]
    },
    {
      "cell_type": "markdown",
      "metadata": {
        "id": "qKmAam0Dl-ty",
        "colab_type": "text"
      },
      "source": [
        "## 1.6 ¿Cómo Funciona Numba?\n",
        "\n",
        "La primera vez que llamamos a nuestra función `hypot` envuelta en Numba, se inició el siguiente proceso:\n",
        "\n",
        "![Numba Flowchart](img/numba_flowchart.png \"The compilation process\")\n",
        "\n",
        "Podemos ver el resultado de la inferencia de tipos utilizando el método `.inspect_types()`, que imprime una versión anotada del código fuente:"
      ]
    },
    {
      "cell_type": "code",
      "metadata": {
        "scrolled": true,
        "id": "RE7s14Edl-tz",
        "colab_type": "code",
        "outputId": "acabdb47-a1d2-44fc-9577-f769ac1332b7",
        "colab": {
          "base_uri": "https://localhost:8080/",
          "height": 1000
        }
      },
      "source": [
        "hypot.inspect_types()"
      ],
      "execution_count": 8,
      "outputs": [
        {
          "output_type": "stream",
          "text": [
            "hypot (float64, float64)\n",
            "--------------------------------------------------------------------------------\n",
            "# File: <ipython-input-1-fad9c051470c>\n",
            "# --- LINE 4 --- \n",
            "\n",
            "@jit\n",
            "\n",
            "# --- LINE 5 --- \n",
            "\n",
            "def hypot(x, y):\n",
            "\n",
            "    # --- LINE 6 --- \n",
            "\n",
            "    # Implementación de https://en.wikipedia.org/wiki/Hypot\n",
            "\n",
            "    # --- LINE 7 --- \n",
            "    # label 0\n",
            "    #   x = arg(0, name=x)  :: float64\n",
            "    #   y = arg(1, name=y)  :: float64\n",
            "    #   $0.1 = global(abs: <built-in function abs>)  :: Function(<built-in function abs>)\n",
            "    #   $0.3 = call $0.1(x, func=$0.1, args=[Var(x, <ipython-input-1-fad9c051470c>:7)], kws=(), vararg=None)  :: (float64,) -> float64\n",
            "    #   del x\n",
            "    #   del $0.1\n",
            "    #   x.1 = $0.3  :: float64\n",
            "    #   del $0.3\n",
            "\n",
            "    x = abs(x);\n",
            "\n",
            "    # --- LINE 8 --- \n",
            "    #   $0.4 = global(abs: <built-in function abs>)  :: Function(<built-in function abs>)\n",
            "    #   $0.6 = call $0.4(y, func=$0.4, args=[Var(y, <ipython-input-1-fad9c051470c>:7)], kws=(), vararg=None)  :: (float64,) -> float64\n",
            "    #   del y\n",
            "    #   del $0.4\n",
            "    #   y.1 = $0.6  :: float64\n",
            "    #   del $0.6\n",
            "\n",
            "    y = abs(y);\n",
            "\n",
            "    # --- LINE 9 --- \n",
            "    #   $0.7 = global(min: <built-in function min>)  :: Function(<built-in function min>)\n",
            "    #   $0.10 = call $0.7(x.1, y.1, func=$0.7, args=[Var(x.1, <ipython-input-1-fad9c051470c>:7), Var(y.1, <ipython-input-1-fad9c051470c>:8)], kws=(), vararg=None)  :: (float64, float64) -> float64\n",
            "    #   del $0.7\n",
            "    #   t = $0.10  :: float64\n",
            "    #   del $0.10\n",
            "\n",
            "    t = min(x, y);\n",
            "\n",
            "    # --- LINE 10 --- \n",
            "    #   $0.11 = global(max: <built-in function max>)  :: Function(<built-in function max>)\n",
            "    #   $0.14 = call $0.11(x.1, y.1, func=$0.11, args=[Var(x.1, <ipython-input-1-fad9c051470c>:7), Var(y.1, <ipython-input-1-fad9c051470c>:8)], kws=(), vararg=None)  :: (float64, float64) -> float64\n",
            "    #   del y.1\n",
            "    #   del x.1\n",
            "    #   del $0.11\n",
            "    #   x.2 = $0.14  :: float64\n",
            "    #   del $0.14\n",
            "\n",
            "    x = max(x, y);\n",
            "\n",
            "    # --- LINE 11 --- \n",
            "    #   $0.17 = t / x.2  :: float64\n",
            "    #   del t\n",
            "    #   t.1 = $0.17  :: float64\n",
            "    #   del $0.17\n",
            "\n",
            "    t = t / x;\n",
            "\n",
            "    # --- LINE 12 --- \n",
            "    #   $0.19 = global(math: <module 'math' (built-in)>)  :: Module(<module 'math' (built-in)>)\n",
            "    #   $0.20 = getattr(value=$0.19, attr=sqrt)  :: Function(<built-in function sqrt>)\n",
            "    #   del $0.19\n",
            "    #   $const0.21 = const(int, 1)  :: Literal[int](1)\n",
            "    #   $0.24 = t.1 * t.1  :: float64\n",
            "    #   del t.1\n",
            "    #   $0.25 = $const0.21 + $0.24  :: float64\n",
            "    #   del $const0.21\n",
            "    #   del $0.24\n",
            "    #   $0.26 = call $0.20($0.25, func=$0.20, args=[Var($0.25, <ipython-input-1-fad9c051470c>:12)], kws=(), vararg=None)  :: (float64,) -> float64\n",
            "    #   del $0.25\n",
            "    #   del $0.20\n",
            "    #   $0.27 = x.2 * $0.26  :: float64\n",
            "    #   del x.2\n",
            "    #   del $0.26\n",
            "    #   $0.28 = cast(value=$0.27)  :: float64\n",
            "    #   del $0.27\n",
            "    #   return $0.28\n",
            "\n",
            "    return x * math.sqrt(1+t*t)\n",
            "\n",
            "\n",
            "================================================================================\n"
          ],
          "name": "stdout"
        }
      ]
    },
    {
      "cell_type": "markdown",
      "metadata": {
        "id": "OzVGymZMl-t1",
        "colab_type": "text"
      },
      "source": [
        "Nótese que los nombres de los tipos de Numba tienden a reflejar los nombres de los tipos de NumPy, así que un `float` de Python es un `float64` (también llamado \"doble precisión\" en otros idiomas).  Echar un vistazo a los tipos de datos a veces puede ser importante en el código GPU, porque el rendimiento de los cálculos con `float32` y `float64` será muy diferente en los dispositivos CUDA. Un casting de tipos accidental puede ralentizar muchísimo una función."
      ]
    },
    {
      "cell_type": "markdown",
      "metadata": {
        "id": "s9oL8RYVl-t2",
        "colab_type": "text"
      },
      "source": [
        "## 1.7 Cuando Las Cosas Van Mal\n",
        "\n",
        "Numba no puede compilar todo el código Python.  Algunas funciones no tienen una traducción de Numba, y algunas clases de tipos Python no pueden ser compilados eficientemente (todavía).  Por ejemplo, Numba no soporta diccionarios (a día de hoy...):"
      ]
    },
    {
      "cell_type": "code",
      "metadata": {
        "id": "ctcDbLUwl-t2",
        "colab_type": "code",
        "outputId": "39eab19d-3f23-4f19-bb0d-627a8b5f6fb0",
        "colab": {
          "base_uri": "https://localhost:8080/",
          "height": 557
        }
      },
      "source": [
        "@jit\n",
        "def cannot_compile(x):\n",
        "    return x['key']\n",
        "\n",
        "cannot_compile(dict(key='value'))"
      ],
      "execution_count": 9,
      "outputs": [
        {
          "output_type": "stream",
          "text": [
            "<ipython-input-9-9ab63214e97a>:1: NumbaWarning: \n",
            "Compilation is falling back to object mode WITH looplifting enabled because Function \"cannot_compile\" failed type inference due to: non-precise type pyobject\n",
            "[1] During: typing of argument at <ipython-input-9-9ab63214e97a> (3)\n",
            "\n",
            "File \"<ipython-input-9-9ab63214e97a>\", line 3:\n",
            "def cannot_compile(x):\n",
            "    return x['key']\n",
            "    ^\n",
            "\n",
            "  @jit\n",
            "/usr/local/lib/python3.6/dist-packages/numba/object_mode_passes.py:178: NumbaWarning: Function \"cannot_compile\" was compiled in object mode without forceobj=True.\n",
            "\n",
            "File \"<ipython-input-9-9ab63214e97a>\", line 2:\n",
            "@jit\n",
            "def cannot_compile(x):\n",
            "^\n",
            "\n",
            "  state.func_ir.loc))\n",
            "/usr/local/lib/python3.6/dist-packages/numba/object_mode_passes.py:188: NumbaDeprecationWarning: \n",
            "Fall-back from the nopython compilation path to the object mode compilation path has been detected, this is deprecated behaviour.\n",
            "\n",
            "For more information visit http://numba.pydata.org/numba-doc/latest/reference/deprecation.html#deprecation-of-object-mode-fall-back-behaviour-when-using-jit\n",
            "\n",
            "File \"<ipython-input-9-9ab63214e97a>\", line 2:\n",
            "@jit\n",
            "def cannot_compile(x):\n",
            "^\n",
            "\n",
            "  state.func_ir.loc))\n"
          ],
          "name": "stderr"
        },
        {
          "output_type": "execute_result",
          "data": {
            "text/plain": [
              "'value'"
            ]
          },
          "metadata": {
            "tags": []
          },
          "execution_count": 9
        }
      ]
    },
    {
      "cell_type": "markdown",
      "metadata": {
        "id": "XTzIlGj4l-t4",
        "colab_type": "text"
      },
      "source": [
        "Espera, ¿qué pasó?  Por defecto, Numba volverá a un modo, llamado \"modo objeto\" (object mode), que no hace especialización de tipos.  El modo objeto existe para habilitar otras funcionalidades de Numba, pero en muchos casos, es deseable que Numba te diga si la inferencia de tipos falla.  Puedes forzar el \"modo nopython\" (\"nopython mode\", que es el otro modo de compilación) pasando argumentos al decorador:"
      ]
    },
    {
      "cell_type": "code",
      "metadata": {
        "id": "L2NoMIDDl-t5",
        "colab_type": "code",
        "outputId": "d4c01d43-b101-4cfd-9269-34866eda7689",
        "colab": {
          "base_uri": "https://localhost:8080/",
          "height": 519
        }
      },
      "source": [
        "@jit(nopython=True)\n",
        "def cannot_compile(x):\n",
        "    return x['key']\n",
        "\n",
        "cannot_compile(dict(key='value'))"
      ],
      "execution_count": 10,
      "outputs": [
        {
          "output_type": "error",
          "ename": "TypingError",
          "evalue": "ignored",
          "traceback": [
            "\u001b[0;31m---------------------------------------------------------------------------\u001b[0m",
            "\u001b[0;31mTypingError\u001b[0m                               Traceback (most recent call last)",
            "\u001b[0;32m<ipython-input-10-42c374763781>\u001b[0m in \u001b[0;36m<module>\u001b[0;34m()\u001b[0m\n\u001b[1;32m      3\u001b[0m     \u001b[0;32mreturn\u001b[0m \u001b[0mx\u001b[0m\u001b[0;34m[\u001b[0m\u001b[0;34m'key'\u001b[0m\u001b[0;34m]\u001b[0m\u001b[0;34m\u001b[0m\u001b[0;34m\u001b[0m\u001b[0m\n\u001b[1;32m      4\u001b[0m \u001b[0;34m\u001b[0m\u001b[0m\n\u001b[0;32m----> 5\u001b[0;31m \u001b[0mcannot_compile\u001b[0m\u001b[0;34m(\u001b[0m\u001b[0mdict\u001b[0m\u001b[0;34m(\u001b[0m\u001b[0mkey\u001b[0m\u001b[0;34m=\u001b[0m\u001b[0;34m'value'\u001b[0m\u001b[0;34m)\u001b[0m\u001b[0;34m)\u001b[0m\u001b[0;34m\u001b[0m\u001b[0;34m\u001b[0m\u001b[0m\n\u001b[0m",
            "\u001b[0;32m/usr/local/lib/python3.6/dist-packages/numba/dispatcher.py\u001b[0m in \u001b[0;36m_compile_for_args\u001b[0;34m(self, *args, **kws)\u001b[0m\n\u001b[1;32m    399\u001b[0m                 \u001b[0me\u001b[0m\u001b[0;34m.\u001b[0m\u001b[0mpatch_message\u001b[0m\u001b[0;34m(\u001b[0m\u001b[0mmsg\u001b[0m\u001b[0;34m)\u001b[0m\u001b[0;34m\u001b[0m\u001b[0;34m\u001b[0m\u001b[0m\n\u001b[1;32m    400\u001b[0m \u001b[0;34m\u001b[0m\u001b[0m\n\u001b[0;32m--> 401\u001b[0;31m             \u001b[0merror_rewrite\u001b[0m\u001b[0;34m(\u001b[0m\u001b[0me\u001b[0m\u001b[0;34m,\u001b[0m \u001b[0;34m'typing'\u001b[0m\u001b[0;34m)\u001b[0m\u001b[0;34m\u001b[0m\u001b[0;34m\u001b[0m\u001b[0m\n\u001b[0m\u001b[1;32m    402\u001b[0m         \u001b[0;32mexcept\u001b[0m \u001b[0merrors\u001b[0m\u001b[0;34m.\u001b[0m\u001b[0mUnsupportedError\u001b[0m \u001b[0;32mas\u001b[0m \u001b[0me\u001b[0m\u001b[0;34m:\u001b[0m\u001b[0;34m\u001b[0m\u001b[0;34m\u001b[0m\u001b[0m\n\u001b[1;32m    403\u001b[0m             \u001b[0;31m# Something unsupported is present in the user code, add help info\u001b[0m\u001b[0;34m\u001b[0m\u001b[0;34m\u001b[0m\u001b[0;34m\u001b[0m\u001b[0m\n",
            "\u001b[0;32m/usr/local/lib/python3.6/dist-packages/numba/dispatcher.py\u001b[0m in \u001b[0;36merror_rewrite\u001b[0;34m(e, issue_type)\u001b[0m\n\u001b[1;32m    342\u001b[0m                 \u001b[0;32mraise\u001b[0m \u001b[0me\u001b[0m\u001b[0;34m\u001b[0m\u001b[0;34m\u001b[0m\u001b[0m\n\u001b[1;32m    343\u001b[0m             \u001b[0;32melse\u001b[0m\u001b[0;34m:\u001b[0m\u001b[0;34m\u001b[0m\u001b[0;34m\u001b[0m\u001b[0m\n\u001b[0;32m--> 344\u001b[0;31m                 \u001b[0mreraise\u001b[0m\u001b[0;34m(\u001b[0m\u001b[0mtype\u001b[0m\u001b[0;34m(\u001b[0m\u001b[0me\u001b[0m\u001b[0;34m)\u001b[0m\u001b[0;34m,\u001b[0m \u001b[0me\u001b[0m\u001b[0;34m,\u001b[0m \u001b[0;32mNone\u001b[0m\u001b[0;34m)\u001b[0m\u001b[0;34m\u001b[0m\u001b[0;34m\u001b[0m\u001b[0m\n\u001b[0m\u001b[1;32m    345\u001b[0m \u001b[0;34m\u001b[0m\u001b[0m\n\u001b[1;32m    346\u001b[0m         \u001b[0margtypes\u001b[0m \u001b[0;34m=\u001b[0m \u001b[0;34m[\u001b[0m\u001b[0;34m]\u001b[0m\u001b[0;34m\u001b[0m\u001b[0;34m\u001b[0m\u001b[0m\n",
            "\u001b[0;32m/usr/local/lib/python3.6/dist-packages/numba/six.py\u001b[0m in \u001b[0;36mreraise\u001b[0;34m(tp, value, tb)\u001b[0m\n\u001b[1;32m    666\u001b[0m             \u001b[0mvalue\u001b[0m \u001b[0;34m=\u001b[0m \u001b[0mtp\u001b[0m\u001b[0;34m(\u001b[0m\u001b[0;34m)\u001b[0m\u001b[0;34m\u001b[0m\u001b[0;34m\u001b[0m\u001b[0m\n\u001b[1;32m    667\u001b[0m         \u001b[0;32mif\u001b[0m \u001b[0mvalue\u001b[0m\u001b[0;34m.\u001b[0m\u001b[0m__traceback__\u001b[0m \u001b[0;32mis\u001b[0m \u001b[0;32mnot\u001b[0m \u001b[0mtb\u001b[0m\u001b[0;34m:\u001b[0m\u001b[0;34m\u001b[0m\u001b[0;34m\u001b[0m\u001b[0m\n\u001b[0;32m--> 668\u001b[0;31m             \u001b[0;32mraise\u001b[0m \u001b[0mvalue\u001b[0m\u001b[0;34m.\u001b[0m\u001b[0mwith_traceback\u001b[0m\u001b[0;34m(\u001b[0m\u001b[0mtb\u001b[0m\u001b[0;34m)\u001b[0m\u001b[0;34m\u001b[0m\u001b[0;34m\u001b[0m\u001b[0m\n\u001b[0m\u001b[1;32m    669\u001b[0m         \u001b[0;32mraise\u001b[0m \u001b[0mvalue\u001b[0m\u001b[0;34m\u001b[0m\u001b[0;34m\u001b[0m\u001b[0m\n\u001b[1;32m    670\u001b[0m \u001b[0;34m\u001b[0m\u001b[0m\n",
            "\u001b[0;31mTypingError\u001b[0m: Failed in nopython mode pipeline (step: nopython frontend)\nnon-precise type pyobject\n[1] During: typing of argument at <ipython-input-10-42c374763781> (3)\n\nFile \"<ipython-input-10-42c374763781>\", line 3:\ndef cannot_compile(x):\n    return x['key']\n    ^\n\nThis error may have been caused by the following argument(s):\n- argument 0: cannot determine Numba type of <class 'dict'>\n"
          ]
        }
      ]
    },
    {
      "cell_type": "markdown",
      "metadata": {
        "id": "jpUvWUDGl-uB",
        "colab_type": "text"
      },
      "source": [
        "Ahora obtenemos una excepción cuando Numba intenta compilar la función, con un error que dice:\n",
        "\n",
        "```\n",
        "- argument 0: cannot determine Numba type of <class 'dict'>\n",
        "```\n",
        "\n",
        "que es el problema subyacente.\n",
        "\n",
        "Veremos otros argumentos del decorador `@jit` en futuras secciones.\n"
      ]
    },
    {
      "cell_type": "markdown",
      "metadata": {
        "id": "Z_2SQsuzl-uB",
        "colab_type": "text"
      },
      "source": [
        "# II. Ejercicio Propuesto\n",
        "\n",
        "A continuación se muestra una función que hace un bucle sobre dos matrices NumPy de entrada y pone su suma en la matriz de salida.  Modifica esta función para llamar a la función `hypot` que definimos arriba.  Aprenderemos una forma más eficiente de escribir tales funciones en una sección futura.\n",
        "\n",
        "(Asegúrate de ejecutar todas las celdas de este cuaderno para que se defina `hypot`)."
      ]
    },
    {
      "cell_type": "code",
      "metadata": {
        "id": "tC5rhlwHl-uB",
        "colab_type": "code",
        "colab": {}
      },
      "source": [
        "@jit(nopython=True)\n",
        "def ex1(x, y, out):\n",
        "    for i in range(x.shape[0]):\n",
        "        out[i] = x[i] + y[i]"
      ],
      "execution_count": 0,
      "outputs": []
    },
    {
      "cell_type": "code",
      "metadata": {
        "id": "rbcl8NKpl-uE",
        "colab_type": "code",
        "outputId": "5dcbf229-c7cd-4204-94af-c2b6bf491bc6",
        "colab": {
          "base_uri": "https://localhost:8080/",
          "height": 69
        }
      },
      "source": [
        "import numpy as np\n",
        "\n",
        "in1 = np.arange(10, dtype=np.float64)\n",
        "in2 = 2 * in1 + 1\n",
        "out = np.empty_like(in1)\n",
        "\n",
        "print('in1:', in1)\n",
        "print('in2:', in2)\n",
        "\n",
        "ex1(in1, in2, out)\n",
        "\n",
        "print('out:', out)"
      ],
      "execution_count": 12,
      "outputs": [
        {
          "output_type": "stream",
          "text": [
            "in1: [0. 1. 2. 3. 4. 5. 6. 7. 8. 9.]\n",
            "in2: [ 1.  3.  5.  7.  9. 11. 13. 15. 17. 19.]\n",
            "out: [ 1.  4.  7. 10. 13. 16. 19. 22. 25. 28.]\n"
          ],
          "name": "stdout"
        }
      ]
    },
    {
      "cell_type": "code",
      "metadata": {
        "id": "3tNistlvl-uG",
        "colab_type": "code",
        "colab": {
          "base_uri": "https://localhost:8080/",
          "height": 470
        },
        "outputId": "6a257240-b3a7-4908-8ba1-33fd2fcd662e"
      },
      "source": [
        "# This test will fail until you fix the ex1 function\n",
        "np.testing.assert_almost_equal(out, np.hypot(in1, in2))"
      ],
      "execution_count": 13,
      "outputs": [
        {
          "output_type": "error",
          "ename": "AssertionError",
          "evalue": "ignored",
          "traceback": [
            "\u001b[0;31m---------------------------------------------------------------------------\u001b[0m",
            "\u001b[0;31mAssertionError\u001b[0m                            Traceback (most recent call last)",
            "\u001b[0;32m<ipython-input-13-60b30e68b407>\u001b[0m in \u001b[0;36m<module>\u001b[0;34m()\u001b[0m\n\u001b[0;32m----> 1\u001b[0;31m \u001b[0mnp\u001b[0m\u001b[0;34m.\u001b[0m\u001b[0mtesting\u001b[0m\u001b[0;34m.\u001b[0m\u001b[0massert_almost_equal\u001b[0m\u001b[0;34m(\u001b[0m\u001b[0mout\u001b[0m\u001b[0;34m,\u001b[0m \u001b[0mnp\u001b[0m\u001b[0;34m.\u001b[0m\u001b[0mhypot\u001b[0m\u001b[0;34m(\u001b[0m\u001b[0min1\u001b[0m\u001b[0;34m,\u001b[0m \u001b[0min2\u001b[0m\u001b[0;34m)\u001b[0m\u001b[0;34m)\u001b[0m\u001b[0;34m\u001b[0m\u001b[0;34m\u001b[0m\u001b[0m\n\u001b[0m",
            "\u001b[0;32m/usr/local/lib/python3.6/dist-packages/numpy/testing/_private/utils.py\u001b[0m in \u001b[0;36massert_almost_equal\u001b[0;34m(actual, desired, decimal, err_msg, verbose)\u001b[0m\n\u001b[1;32m    583\u001b[0m     \u001b[0;32mif\u001b[0m \u001b[0misinstance\u001b[0m\u001b[0;34m(\u001b[0m\u001b[0mactual\u001b[0m\u001b[0;34m,\u001b[0m \u001b[0;34m(\u001b[0m\u001b[0mndarray\u001b[0m\u001b[0;34m,\u001b[0m \u001b[0mtuple\u001b[0m\u001b[0;34m,\u001b[0m \u001b[0mlist\u001b[0m\u001b[0;34m)\u001b[0m\u001b[0;34m)\u001b[0m\u001b[0;31m \u001b[0m\u001b[0;31m\\\u001b[0m\u001b[0;34m\u001b[0m\u001b[0;34m\u001b[0m\u001b[0m\n\u001b[1;32m    584\u001b[0m             \u001b[0;32mor\u001b[0m \u001b[0misinstance\u001b[0m\u001b[0;34m(\u001b[0m\u001b[0mdesired\u001b[0m\u001b[0;34m,\u001b[0m \u001b[0;34m(\u001b[0m\u001b[0mndarray\u001b[0m\u001b[0;34m,\u001b[0m \u001b[0mtuple\u001b[0m\u001b[0;34m,\u001b[0m \u001b[0mlist\u001b[0m\u001b[0;34m)\u001b[0m\u001b[0;34m)\u001b[0m\u001b[0;34m:\u001b[0m\u001b[0;34m\u001b[0m\u001b[0;34m\u001b[0m\u001b[0m\n\u001b[0;32m--> 585\u001b[0;31m         \u001b[0;32mreturn\u001b[0m \u001b[0massert_array_almost_equal\u001b[0m\u001b[0;34m(\u001b[0m\u001b[0mactual\u001b[0m\u001b[0;34m,\u001b[0m \u001b[0mdesired\u001b[0m\u001b[0;34m,\u001b[0m \u001b[0mdecimal\u001b[0m\u001b[0;34m,\u001b[0m \u001b[0merr_msg\u001b[0m\u001b[0;34m)\u001b[0m\u001b[0;34m\u001b[0m\u001b[0;34m\u001b[0m\u001b[0m\n\u001b[0m\u001b[1;32m    586\u001b[0m     \u001b[0;32mtry\u001b[0m\u001b[0;34m:\u001b[0m\u001b[0;34m\u001b[0m\u001b[0;34m\u001b[0m\u001b[0m\n\u001b[1;32m    587\u001b[0m         \u001b[0;31m# If one of desired/actual is not finite, handle it specially here:\u001b[0m\u001b[0;34m\u001b[0m\u001b[0;34m\u001b[0m\u001b[0;34m\u001b[0m\u001b[0m\n",
            "\u001b[0;32m/usr/local/lib/python3.6/dist-packages/numpy/testing/_private/utils.py\u001b[0m in \u001b[0;36massert_array_almost_equal\u001b[0;34m(x, y, decimal, err_msg, verbose)\u001b[0m\n\u001b[1;32m   1045\u001b[0m     assert_array_compare(compare, x, y, err_msg=err_msg, verbose=verbose,\n\u001b[1;32m   1046\u001b[0m              \u001b[0mheader\u001b[0m\u001b[0;34m=\u001b[0m\u001b[0;34m(\u001b[0m\u001b[0;34m'Arrays are not almost equal to %d decimals'\u001b[0m \u001b[0;34m%\u001b[0m \u001b[0mdecimal\u001b[0m\u001b[0;34m)\u001b[0m\u001b[0;34m,\u001b[0m\u001b[0;34m\u001b[0m\u001b[0;34m\u001b[0m\u001b[0m\n\u001b[0;32m-> 1047\u001b[0;31m              precision=decimal)\n\u001b[0m\u001b[1;32m   1048\u001b[0m \u001b[0;34m\u001b[0m\u001b[0m\n\u001b[1;32m   1049\u001b[0m \u001b[0;34m\u001b[0m\u001b[0m\n",
            "\u001b[0;32m/usr/local/lib/python3.6/dist-packages/numpy/testing/_private/utils.py\u001b[0m in \u001b[0;36massert_array_compare\u001b[0;34m(comparison, x, y, err_msg, verbose, header, precision, equal_nan, equal_inf)\u001b[0m\n\u001b[1;32m    844\u001b[0m                                 \u001b[0mverbose\u001b[0m\u001b[0;34m=\u001b[0m\u001b[0mverbose\u001b[0m\u001b[0;34m,\u001b[0m \u001b[0mheader\u001b[0m\u001b[0;34m=\u001b[0m\u001b[0mheader\u001b[0m\u001b[0;34m,\u001b[0m\u001b[0;34m\u001b[0m\u001b[0;34m\u001b[0m\u001b[0m\n\u001b[1;32m    845\u001b[0m                                 names=('x', 'y'), precision=precision)\n\u001b[0;32m--> 846\u001b[0;31m             \u001b[0;32mraise\u001b[0m \u001b[0mAssertionError\u001b[0m\u001b[0;34m(\u001b[0m\u001b[0mmsg\u001b[0m\u001b[0;34m)\u001b[0m\u001b[0;34m\u001b[0m\u001b[0;34m\u001b[0m\u001b[0m\n\u001b[0m\u001b[1;32m    847\u001b[0m     \u001b[0;32mexcept\u001b[0m \u001b[0mValueError\u001b[0m\u001b[0;34m:\u001b[0m\u001b[0;34m\u001b[0m\u001b[0;34m\u001b[0m\u001b[0m\n\u001b[1;32m    848\u001b[0m         \u001b[0;32mimport\u001b[0m \u001b[0mtraceback\u001b[0m\u001b[0;34m\u001b[0m\u001b[0;34m\u001b[0m\u001b[0m\n",
            "\u001b[0;31mAssertionError\u001b[0m: \nArrays are not almost equal to 7 decimals\n\nMismatched elements: 9 / 10 (90%)\nMax absolute difference: 6.97620396\nMax relative difference: 0.33182418\n x: array([ 1.,  4.,  7., 10., 13., 16., 19., 22., 25., 28.])\n y: array([ 1.       ,  3.1622777,  5.3851648,  7.6157731,  9.8488578,\n       12.083046 , 14.3178211, 16.5529454, 18.7882942, 21.023796 ])"
          ]
        }
      ]
    },
    {
      "cell_type": "code",
      "metadata": {
        "id": "F_gdymesl-uI",
        "colab_type": "code",
        "colab": {}
      },
      "source": [
        ""
      ],
      "execution_count": 0,
      "outputs": []
    }
  ]
}